{
 "cells": [
  {
   "cell_type": "code",
   "execution_count": 0,
   "metadata": {
    "application/vnd.databricks.v1+cell": {
     "cellMetadata": {
      "byteLimit": 2048000,
      "rowLimit": 10000
     },
     "inputWidgets": {},
     "nuid": "c9f112c0-7318-4c5c-86ad-a1d9da1c31a9",
     "showTitle": true,
     "title": "Calculate the total popularity for each track genre:"
    }
   },
   "outputs": [
    {
     "output_type": "stream",
     "name": "stdout",
     "output_type": "stream",
     "text": [
      "+-----------------+----------------+\n|      track_genre|total_popularity|\n+-----------------+----------------+\n|singer-songwriter|           37813|\n|            study|           26108|\n|          spanish|           37922|\n|          swedish|           37175|\n|        synth-pop|           36576|\n|           techno|           39042|\n|       show-tunes|           31246|\n|         trip-hop|           34460|\n|       songwriter|           37813|\n|             soul|           19795|\n|          turkish|           40698|\n|            salsa|           28066|\n|            samba|           38826|\n|            sleep|           35071|\n|      world-music|           41873|\n|              ska|           35126|\n|            tango|           19871|\n|        sertanejo|           47866|\n|           trance|           37635|\n|             folk|           38006|\n+-----------------+----------------+\nonly showing top 20 rows\n\n"
     ]
    }
   ],
   "source": [
    "from pyspark.sql import SparkSession\n",
    "from pyspark.sql.functions import sum\n",
    "\n",
    "# Create a SparkSession\n",
    "spark = SparkSession.builder \\\n",
    "    .appName(\"OLAP Queries\") \\\n",
    "    .getOrCreate()\n",
    "\n",
    "# Read the Spotify dataset into a DataFrame\n",
    "df = spark.sql(\"SELECT * FROM cosmos.spotify_data\")\n",
    "\n",
    "# Perform OLAP query to calculate total popularity per track genre\n",
    "result = df.groupby(\"track_genre\").agg(sum(\"popularity\").alias(\"total_popularity\"))\n",
    "\n",
    "# Display the result\n",
    "result.show()\n",
    "\n",
    "\n",
    "\n"
   ]
  },
  {
   "cell_type": "code",
   "execution_count": 0,
   "metadata": {
    "application/vnd.databricks.v1+cell": {
     "cellMetadata": {
      "byteLimit": 2048000,
      "rowLimit": 10000
     },
     "inputWidgets": {},
     "nuid": "2cd8cca6-a6ab-4cc1-bd95-750e7b41d6bf",
     "showTitle": true,
     "title": "Find the top 5 artists with the highest average popularity:"
    }
   },
   "outputs": [
    {
     "output_type": "stream",
     "name": "stdout",
     "output_type": "stream",
     "text": [
      "+--------------------+--------------+\n|             artists|avg_popularity|\n+--------------------+--------------+\n|Sam Smith;Kim Petras|         100.0|\n|    Bizarrap;Quevedo|          99.0|\n|       Manuel Turizo|          98.0|\n|Bad Bunny;Chencho...|          97.0|\n|Bad Bunny;Bomba E...|          94.5|\n+--------------------+--------------+\n\n"
     ]
    }
   ],
   "source": [
    "from pyspark.sql import SparkSession\n",
    "from pyspark.sql.functions import desc, avg\n",
    "\n",
    "# Create a SparkSession\n",
    "spark = SparkSession.builder \\\n",
    "    .appName(\"OLAP Queries\") \\\n",
    "    .getOrCreate()\n",
    "\n",
    "# Read the Spotify dataset into a DataFrame\n",
    "df = spark.sql(\"SELECT * FROM cosmos.spotify_data\")\n",
    "\n",
    "# Perform OLAP query to find top 5 artists with highest average popularity\n",
    "result = df.groupby(\"artists\").agg(avg(\"popularity\").alias(\"avg_popularity\")).orderBy(desc(\"avg_popularity\")).limit(5)\n",
    "\n",
    "# Display the result\n",
    "result.show()\n"
   ]
  },
  {
   "cell_type": "code",
   "execution_count": 0,
   "metadata": {
    "application/vnd.databricks.v1+cell": {
     "cellMetadata": {
      "byteLimit": 2048000,
      "rowLimit": 10000
     },
     "inputWidgets": {},
     "nuid": "9db7348f-2aae-450d-9692-0f84b470fd95",
     "showTitle": true,
     "title": " Calculate the average duration per track genre:"
    }
   },
   "outputs": [
    {
     "output_type": "stream",
     "name": "stdout",
     "output_type": "stream",
     "text": [
      "+-------------+------------+\n|  track_genre|avg_duration|\n+-------------+------------+\n|        anime|  210204.076|\n|  alternative|   222016.18|\n|  death-metal|  247492.705|\n|      ambient|  237059.038|\n|     cantopop|  229203.236|\n|        blues|  222594.857|\n|    breakbeat|  321762.218|\n|        dance|   197756.89|\n|       brazil|  274230.482|\n|   deep-house|  219344.579|\n|        chill|  169009.967|\n|    bluegrass|   221496.69|\n|      country|  205999.026|\n|      british|  221502.449|\n|    dancehall|  197455.019|\n|         club|  206297.218|\n|chicago-house|  366853.868|\n|     alt-rock|  235455.907|\n|     children|  138987.757|\n|     acoustic|  214896.957|\n+-------------+------------+\nonly showing top 20 rows\n\n"
     ]
    }
   ],
   "source": [
    "from pyspark.sql import SparkSession\n",
    "from pyspark.sql.functions import avg\n",
    "\n",
    "# Create a SparkSession\n",
    "spark = SparkSession.builder \\\n",
    "    .appName(\"OLAP Queries\") \\\n",
    "    .getOrCreate()\n",
    "\n",
    "# Read the Spotify dataset into a DataFrame\n",
    "df = spark.sql(\"SELECT * FROM cosmos.spotify_data\")\n",
    "\n",
    "# Perform OLAP query to calculate average duration per track genre\n",
    "result = df.groupby(\"track_genre\").agg(avg(\"duration_ms\").alias(\"avg_duration\"))\n",
    "\n",
    "# Display the result\n",
    "result.show()\n"
   ]
  },
  {
   "cell_type": "code",
   "execution_count": 0,
   "metadata": {
    "application/vnd.databricks.v1+cell": {
     "cellMetadata": {
      "byteLimit": 2048000,
      "rowLimit": 10000
     },
     "inputWidgets": {},
     "nuid": "46baa951-6077-417b-838a-1b003ad7b09c",
     "showTitle": true,
     "title": "Determine the track genre with the highest danceability:"
    }
   },
   "outputs": [
    {
     "output_type": "stream",
     "name": "stdout",
     "output_type": "stream",
     "text": [
      "+-----------+------------------+\n|track_genre| avg(danceability)|\n+-----------+------------------+\n|       kids|0.7789059999999993|\n+-----------+------------------+\n\n"
     ]
    }
   ],
   "source": [
    "from pyspark.sql import SparkSession\n",
    "from pyspark.sql.functions import desc\n",
    "\n",
    "# Create a SparkSession\n",
    "spark = SparkSession.builder \\\n",
    "    .appName(\"OLAP Queries\") \\\n",
    "    .getOrCreate()\n",
    "\n",
    "# Read the Spotify dataset into a DataFrame\n",
    "df = spark.sql(\"SELECT * FROM cosmos.spotify_data\")\n",
    "\n",
    "# Perform OLAP query to find the track genre with the highest danceability\n",
    "result = df.groupby(\"track_genre\").agg({\"danceability\": \"avg\"}).orderBy(desc(\"avg(danceability)\")).limit(1)\n",
    "\n",
    "# Display the result\n",
    "result.show()\n"
   ]
  },
  {
   "cell_type": "code",
   "execution_count": 0,
   "metadata": {
    "application/vnd.databricks.v1+cell": {
     "cellMetadata": {
      "byteLimit": 2048000,
      "rowLimit": 10000
     },
     "inputWidgets": {},
     "nuid": "c4243708-309f-4182-b875-a691579094e4",
     "showTitle": true,
     "title": "Find the most popular track genre:"
    }
   },
   "outputs": [
    {
     "output_type": "stream",
     "name": "stdout",
     "output_type": "stream",
     "text": [
      "+-----------+---------------+\n|track_genre|sum(popularity)|\n+-----------+---------------+\n|   pop-film|          59283|\n+-----------+---------------+\n\n"
     ]
    }
   ],
   "source": [
    "from pyspark.sql import SparkSession\n",
    "from pyspark.sql.functions import desc\n",
    "\n",
    "# Create a SparkSession\n",
    "spark = SparkSession.builder \\\n",
    "    .appName(\"OLAP Queries\") \\\n",
    "    .getOrCreate()\n",
    "\n",
    "# Read the Spotify dataset into a DataFrame\n",
    "df = spark.sql(\"SELECT * FROM cosmos.spotify_data\")\n",
    "\n",
    "# Perform OLAP query to find the most popular track genre\n",
    "result = df.groupby(\"track_genre\").agg({\"popularity\": \"sum\"}).orderBy(desc(\"sum(popularity)\")).limit(1)\n",
    "\n",
    "# Display the result\n",
    "result.show()\n"
   ]
  },
  {
   "cell_type": "code",
   "execution_count": 0,
   "metadata": {
    "application/vnd.databricks.v1+cell": {
     "cellMetadata": {
      "byteLimit": 2048000,
      "rowLimit": 10000
     },
     "inputWidgets": {},
     "nuid": "eee02d4c-39df-4951-b97a-21686b05de40",
     "showTitle": true,
     "title": "Find the track genre with the highest tempo:"
    }
   },
   "outputs": [
    {
     "output_type": "stream",
     "name": "stdout",
     "output_type": "stream",
     "text": [
      "+-----------+----------+\n|track_genre|max(tempo)|\n+-----------+----------+\n|      blues|   243.372|\n+-----------+----------+\n\n"
     ]
    }
   ],
   "source": [
    "from pyspark.sql import SparkSession\n",
    "from pyspark.sql.functions import desc\n",
    "\n",
    "# Create a SparkSession\n",
    "spark = SparkSession.builder \\\n",
    "    .appName(\"OLAP Queries\") \\\n",
    "    .getOrCreate()\n",
    "\n",
    "# Read the Spotify dataset into a DataFrame\n",
    "df = spark.sql(\"SELECT * FROM cosmos.spotify_data\")\n",
    "\n",
    "# Perform OLAP query to find the track genre with the highest tempo\n",
    "result = df.groupby(\"track_genre\").agg({\"tempo\": \"max\"}).orderBy(desc(\"max(tempo)\")).limit(1)\n",
    "\n",
    "# Display the result\n",
    "result.show()\n"
   ]
  },
  {
   "cell_type": "code",
   "execution_count": 0,
   "metadata": {
    "application/vnd.databricks.v1+cell": {
     "cellMetadata": {
      "byteLimit": 2048000,
      "rowLimit": 10000
     },
     "inputWidgets": {},
     "nuid": "8c179cd1-d3a7-48a3-a4c7-72554d5597b0",
     "showTitle": true,
     "title": "Calculate the average popularity for each track genre, grouped by explicit and non-explicit tracks:"
    }
   },
   "outputs": [
    {
     "output_type": "stream",
     "name": "stdout",
     "output_type": "stream",
     "text": [
      "+-----------------+--------+------------------+\n|      track_genre|explicit|    avg_popularity|\n+-----------------+--------+------------------+\n|           techno|    true| 43.03846153846154|\n|            tango|   false|            19.871|\n|          turkish|   false| 40.96419437340153|\n|          spanish|    true| 35.63157894736842|\n|      world-music|   false|            41.873|\n|             soul|    true| 42.55769230769231|\n|           techno|   false|   38.935318275154|\n|        synth-pop|   false| 36.09414225941423|\n|singer-songwriter|   false| 38.03777544596013|\n|           trance|   false| 37.53169734151329|\n|       songwriter|   false| 38.03777544596013|\n|          spanish|   false|38.012474012474016|\n|       show-tunes|   false| 30.91446028513238|\n|            samba|   false| 38.81963927855711|\n|              ska|   false| 35.10245901639344|\n|           trance|    true| 42.22727272727273|\n|              ska|    true|36.083333333333336|\n|             soul|   false|17.152901785714285|\n|        synth-pop|    true| 47.04545454545455|\n|            sleep|   false|            35.071|\n+-----------------+--------+------------------+\nonly showing top 20 rows\n\n"
     ]
    }
   ],
   "source": [
    "from pyspark.sql import SparkSession\n",
    "from pyspark.sql.functions import avg\n",
    "\n",
    "# Create a SparkSession\n",
    "spark = SparkSession.builder \\\n",
    "    .appName(\"OLAP Queries\") \\\n",
    "    .getOrCreate()\n",
    "\n",
    "# Read the Spotify dataset into a DataFrame\n",
    "df = spark.sql(\"SELECT * FROM cosmos.spotify_data\")\n",
    "\n",
    "# Perform OLAP query to calculate the average popularity per track genre, grouped by explicit and non-explicit tracks\n",
    "result = df.groupby(\"track_genre\", \"explicit\").agg(avg(\"popularity\").alias(\"avg_popularity\"))\n",
    "\n",
    "# Display the result\n",
    "result.show()\n"
   ]
  }
 ],
 "metadata": {
  "application/vnd.databricks.v1+notebook": {
   "dashboards": [],
   "language": "python",
   "notebookMetadata": {
    "mostRecentlyExecutedCommandWithImplicitDF": {
     "commandId": -1,
     "dataframes": [
      "_sqldf"
     ]
    },
    "pythonIndentUnit": 4
   },
   "notebookName": "BDS Assignment -Part 3 (OLAP Query Demo from Databricks Hive DB)",
   "widgets": {}
  }
 },
 "nbformat": 4,
 "nbformat_minor": 0
}
